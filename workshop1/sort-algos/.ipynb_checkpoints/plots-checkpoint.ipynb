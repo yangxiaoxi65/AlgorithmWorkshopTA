{
 "cells": [
  {
   "cell_type": "code",
   "execution_count": 2,
   "id": "6b59404a",
   "metadata": {
    "scrolled": false
   },
   "outputs": [
    {
     "ename": "NameError",
     "evalue": "name 'tHeap' is not defined",
     "output_type": "error",
     "traceback": [
      "\u001b[1;31m---------------------------------------------------------------------------\u001b[0m",
      "\u001b[1;31mNameError\u001b[0m                                 Traceback (most recent call last)",
      "Input \u001b[1;32mIn [2]\u001b[0m, in \u001b[0;36m<cell line: 66>\u001b[1;34m()\u001b[0m\n\u001b[0;32m     63\u001b[0m     plt\u001b[38;5;241m.\u001b[39mshow()\n\u001b[0;32m     65\u001b[0m \u001b[38;5;66;03m#plot_res('B')\u001b[39;00m\n\u001b[1;32m---> 66\u001b[0m \u001b[43mplot_res\u001b[49m\u001b[43m(\u001b[49m\u001b[38;5;124;43m'\u001b[39;49m\u001b[38;5;124;43mA\u001b[39;49m\u001b[38;5;124;43m'\u001b[39;49m\u001b[43m)\u001b[49m\n",
      "Input \u001b[1;32mIn [2]\u001b[0m, in \u001b[0;36mplot_res\u001b[1;34m(caseRuning)\u001b[0m\n\u001b[0;32m     27\u001b[0m size,tSelection, tInsertion, tMerge, tTheoryN, tTheoryNSquare,tTheoryNLog2n \u001b[38;5;241m=\u001b[39m np\u001b[38;5;241m.\u001b[39mloadtxt(fileName, delimiter \u001b[38;5;241m=\u001b[39m \u001b[38;5;124m\"\u001b[39m\u001b[38;5;124m,\u001b[39m\u001b[38;5;124m\"\u001b[39m, unpack\u001b[38;5;241m=\u001b[39m\u001b[38;5;28;01mTrue\u001b[39;00m)\n\u001b[0;32m     30\u001b[0m figure(num\u001b[38;5;241m=\u001b[39m\u001b[38;5;28;01mNone\u001b[39;00m, figsize\u001b[38;5;241m=\u001b[39m(\u001b[38;5;241m12\u001b[39m, \u001b[38;5;241m10\u001b[39m), dpi\u001b[38;5;241m=\u001b[39m\u001b[38;5;241m80\u001b[39m, facecolor\u001b[38;5;241m=\u001b[39m\u001b[38;5;124m'\u001b[39m\u001b[38;5;124mw\u001b[39m\u001b[38;5;124m'\u001b[39m, edgecolor\u001b[38;5;241m=\u001b[39m\u001b[38;5;124m'\u001b[39m\u001b[38;5;124mk\u001b[39m\u001b[38;5;124m'\u001b[39m)\n\u001b[1;32m---> 32\u001b[0m plt\u001b[38;5;241m.\u001b[39mplot(size, \u001b[43mtHeap\u001b[49m, label\u001b[38;5;241m=\u001b[39m\u001b[38;5;124m'\u001b[39m\u001b[38;5;124mHeap Sort\u001b[39m\u001b[38;5;124m'\u001b[39m, marker\u001b[38;5;241m=\u001b[39m\u001b[38;5;124m'\u001b[39m\u001b[38;5;124mo\u001b[39m\u001b[38;5;124m'\u001b[39m)\n\u001b[0;32m     33\u001b[0m plt\u001b[38;5;241m.\u001b[39mplot(size, tQuick, label\u001b[38;5;241m=\u001b[39m\u001b[38;5;124m'\u001b[39m\u001b[38;5;124mQuick Sort\u001b[39m\u001b[38;5;124m'\u001b[39m, marker\u001b[38;5;241m=\u001b[39m\u001b[38;5;124m'\u001b[39m\u001b[38;5;124m*\u001b[39m\u001b[38;5;124m'\u001b[39m)   \n\u001b[0;32m     34\u001b[0m plt\u001b[38;5;241m.\u001b[39mplot(size, tSelection, label\u001b[38;5;241m=\u001b[39m\u001b[38;5;124m'\u001b[39m\u001b[38;5;124mSelection Sort\u001b[39m\u001b[38;5;124m'\u001b[39m, marker\u001b[38;5;241m=\u001b[39m\u001b[38;5;124m'\u001b[39m\u001b[38;5;124mo\u001b[39m\u001b[38;5;124m'\u001b[39m)\n",
      "\u001b[1;31mNameError\u001b[0m: name 'tHeap' is not defined"
     ]
    },
    {
     "data": {
      "text/plain": [
       "<Figure size 960x800 with 0 Axes>"
      ]
     },
     "metadata": {},
     "output_type": "display_data"
    }
   ],
   "source": [
    "import matplotlib.pyplot as plt\n",
    "import pandas as pd\n",
    "import numpy as np\n",
    "from matplotlib.pyplot import figure\n",
    "import random\n",
    "import matplotlib.animation as animation\n",
    "\n",
    "\n",
    "source_file_best=\"sort-results-best.txt\"\n",
    "source_file_average=\"sort-results-average.txt\"\n",
    "source_file_worst=\"sort-results-worst.txt\"\n",
    "\n",
    "def plot_res(caseRuning):\n",
    "    fileName=''\n",
    "    title = ''\n",
    "    if caseRuning == 'B':\n",
    "        fileName = source_file_best\n",
    "        title='Best'\n",
    "    elif caseRuning == 'W':\n",
    "        fileName = source_file_worst\n",
    "        title='Worst'\n",
    "    else:\n",
    "        fileName = source_file_average\n",
    "        title='Average'\n",
    "\n",
    "\n",
    "    size,tSelection, tInsertion, tMerge, tTheoryN, tTheoryNSquare,tTheoryNLog2n = np.loadtxt(fileName, delimiter = \",\", unpack=True)\n",
    "    \n",
    "   \n",
    "    figure(num=None, figsize=(12, 10), dpi=80, facecolor='w', edgecolor='k')\n",
    "    \n",
    "    plt.plot(size, tSelection, label='Selection Sort', marker='o')\n",
    "    plt.plot(size, tInsertion, label='Insertion Sort', marker='*')\n",
    "    plt.plot(size, tMerge, label='Merge Sort', marker='^')\n",
    "\n",
    "    plt.plot(size, tTheoryN, label=r'$N$', marker='H')\n",
    "    plt.plot(size, tTheoryNLog2n, label=r'$NLogN$', marker='^')\n",
    "    plt.plot(size, tTheoryN, label=r'$N$', marker='H')\n",
    "    \n",
    "    #plt.plot(size, tSelection, label='Selection Sort', marker='o')\n",
    "    #plt.plot(size, tInsertion, label='Insertion Sort', marker='*')\n",
    "    #plt.plot(size, tMerge, label='Merge Sort', marker='^')\n",
    "    #plt.plot(size, tHeap, label='Heap Sort', marker='^')\n",
    "    #plt.plot(size, tQuick, label='Quick Sort', marker='^')\n",
    "    \n",
    "    #plt.plot(size, tTheoryN, label=r'$N$', marker='H')\n",
    "    #plt.plot(size, 0.5*tTheoryNSquare, label=r'$0.5 * N^2$', marker='H')\n",
    "    #plt.plot(size, tTheoryNSquare, label=r'$1 * N^2$', marker='H')\n",
    "    #plt.plot(size, 3*tTheoryNSquare, label=r'$3 *N^2$', marker='H')\n",
    "    #plt.plot(size, 5*tTheoryNSquare, label=r'$4 * N^2$', marker='H')\n",
    "\n",
    "    plt.xlabel('Input Size')\n",
    "    plt.ylabel('Running Time (ns)')\n",
    "    plt.title(title+' Case Running Time of Sorting Algorithms')\n",
    "   \n",
    "    legend = plt.legend(loc='upper left', shadow=True, fontsize='x-large')\n",
    "    # Put a nicer background color on the legend.\n",
    "    legend.get_frame().set_facecolor('peachpuff')\n",
    "\n",
    "    plt.show()\n",
    "\n",
    "#plot_res('B')\n",
    "plot_res('A')\n",
    "#plot_res('W')"
   ]
  },
  {
   "cell_type": "code",
   "execution_count": null,
   "id": "66f27402",
   "metadata": {},
   "outputs": [],
   "source": []
  }
 ],
 "metadata": {
  "kernelspec": {
   "display_name": "Python 3 (ipykernel)",
   "language": "python",
   "name": "python3"
  },
  "language_info": {
   "codemirror_mode": {
    "name": "ipython",
    "version": 3
   },
   "file_extension": ".py",
   "mimetype": "text/x-python",
   "name": "python",
   "nbconvert_exporter": "python",
   "pygments_lexer": "ipython3",
   "version": "3.9.12"
  }
 },
 "nbformat": 4,
 "nbformat_minor": 5
}
